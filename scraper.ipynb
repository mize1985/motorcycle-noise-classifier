{
 "cells": [
  {
   "cell_type": "code",
   "execution_count": 1,
   "metadata": {},
   "outputs": [],
   "source": [
    "from pytube import YouTube\n",
    "import requests\n",
    "from bs4 import BeautifulSoup as bs\n",
    "from selenium import webdriver\n",
    "import time\n",
    "from selenium import webdriver\n",
    "from selenium.webdriver.chrome.service import Service\n",
    "import numpy as np\n",
    "import wave\n",
    "import pandas as pd\n",
    "import os\n",
    "import pickle"
   ]
  },
  {
   "cell_type": "code",
   "execution_count": 7,
   "metadata": {},
   "outputs": [],
   "source": [
    "driver = webdriver.Chrome\n",
    "base = 'https://www.youtube.com/results?search_query='\n",
    "qstring = '+motorcycle+exhaust+sound'\n",
    "video_dict={}\n",
    "make_list=['harley+davidson',\n",
    "           'kawasaki']\n",
    "\n",
    "driver = webdriver.Chrome()\n",
    "\n",
    "for make in make_list:\n",
    "    url = base+make+qstring\n",
    "    driver.get(url);\n",
    "    page = driver.get(url)\n",
    "    for i in range(3):\n",
    "    #Scroll\n",
    "        driver.execute_script(\n",
    "            \"window.scrollTo(0, document.documentElement.scrollHeight);\" #Alternatively, document.body.scrollHeight\n",
    "        )\n",
    "    \n",
    "        #Wait for page to load\n",
    "        time.sleep(3)\n",
    "    soup=bs(driver.page_source,'html.parser')\n",
    "    videolist=[]\n",
    "    for video in soup.find_all('a', id='video-title'):\n",
    "        tmp = 'https://youtube.com' + video.get(\"href\")\n",
    "        videolist.append(tmp)\n",
    "    video_dict[make]=videolist.copy()"
   ]
  },
  {
   "cell_type": "code",
   "execution_count": null,
   "metadata": {
    "scrolled": true
   },
   "outputs": [],
   "source": [
    "for make in make_list:\n",
    "    for i,url in enumerate(video_dict[make]):\n",
    "        print(make,i)\n",
    "        print(url)\n",
    "        print(type(url))\n",
    "        try:\n",
    "            video = YouTube(url)\n",
    "            video.streams.filter(only_audio=True,mime_type='audio/mp4').order_by('abr').desc().first().download(\n",
    "            output_path = 'audio'+'/'+make, filename=str(i))\n",
    "        except:\n",
    "            print('^This one is not working')\n",
    "            continue"
   ]
  },
  {
   "cell_type": "code",
   "execution_count": null,
   "metadata": {},
   "outputs": [],
   "source": [
    "def chunk_audio_fft(audio_array,sample_rate,chunk_duration):\n",
    "    chunked_df = pd.DataFrame()\n",
    "    num_samples = int(chunk_duration*sample_rate)\n",
    "    num_chunks = int(len(audio_array)//num_samples)\n",
    "    for i in range (0,num_chunks,1):\n",
    "        start_point=i*num_samples\n",
    "        end_point=(i+1)*num_samples\n",
    "        chunked_df[i] = fft_normalizer(fft_for_audio(audio_array[start_point:end_point],sample_rate))\n",
    "    return chunked_df.transpose()"
   ]
  },
  {
   "cell_type": "code",
   "execution_count": null,
   "metadata": {},
   "outputs": [],
   "source": [
    "def fft_for_audio(array_in,sample_rate):\n",
    "    fft_array = np.fft.fft(array_in)/len(array_in)\n",
    "    fft_array = fft_array[range(int(len(array_in)/2))]\n",
    "    frequencies = [i*sample_rate/len(array_in) for i in range(len(fft_array))][1:]\n",
    "    return pd.Series(abs(fft_array[1:]), index = frequencies)"
   ]
  },
  {
   "cell_type": "code",
   "execution_count": null,
   "metadata": {},
   "outputs": [],
   "source": [
    "def fft_normalizer(fft_in):\n",
    "    fft_out = fft_in.copy()\n",
    "    fft_out.index=np.log2(fft_out.index)\n",
    "    peaks=fft_out.copy()\n",
    "    fundamental_freq = 0\n",
    "    fundamental_peak = 0\n",
    "    for freq in peaks.index:\n",
    "        if peaks[freq] > ((freq-fundamental_freq)*2+1)*fundamental_peak:\n",
    "            fundamental_peak = peaks[freq]\n",
    "            fundamental_freq = freq\n",
    "    fft_out.index=fft_out.index-fundamental_freq\n",
    "    new_index=np.linspace(-5,4,num=451)\n",
    "    resampling_dict = {}\n",
    "    \n",
    "    for freq in new_index:\n",
    "        resampling_dict[freq] = [0,0]\n",
    "    for freq in fft_out[fft_out.index < new_index.max()].index:\n",
    "        new_freq = min(new_index, key=lambda x:abs(x-freq))\n",
    "        resampling_dict[new_freq][0]+=fft_out[freq]\n",
    "        resampling_dict[new_freq][1]+=1\n",
    "    for freq in new_index:\n",
    "        if resampling_dict[freq][1] == 0:\n",
    "            resampling_dict[freq][1] = 1\n",
    "    normalized=pd.Series([resampling_dict[freq][0]/resampling_dict[freq][1] for freq in new_index], index=new_index)\n",
    "    scale = 1/normalized.max()\n",
    "    return normalized*scale"
   ]
  },
  {
   "cell_type": "code",
   "execution_count": null,
   "metadata": {},
   "outputs": [],
   "source": [
    "total_df=pd.DataFrame()\n",
    "directory_list = [dirname for dirpath, dirname, files in os.walk('./audio')][0]\n",
    "for directory_name in directory_list:\n",
    "    make_df=pd.DataFrame()\n",
    "    file_list = [files for dirpath, dirname, files in os.walk('./audio/'+directory_name)][0]\n",
    "    for file_name in file_list:\n",
    "        try:\n",
    "            command = 'rm ./tmp.wav'\n",
    "            os.system(command)\n",
    "            command = 'ffmpeg -i ./audio/'+directory_name+'/'+file_name+' -ac 1 ./tmp.wav'\n",
    "            print(command)\n",
    "            os.system(command)\n",
    "            # Read file to get buffer                                                                                               \n",
    "            ifile = wave.open('tmp.wav')\n",
    "            samples = ifile.getnframes()\n",
    "            sample_rate = ifile.getframerate()\n",
    "            audio = ifile.readframes(samples)\n",
    "\n",
    "            # Convert buffer to float32 using NumPy\n",
    "            audio_as_np_int16 = np.frombuffer(audio, dtype=np.int16)\n",
    "            audio_as_np_float32 = audio_as_np_int16.astype(np.float32)\n",
    "\n",
    "            # Normalize float32 array so that values are between -1.0 and +1.0                                                      \n",
    "            max_int16 = 2**15\n",
    "            audio_normalized = audio_as_np_float32 / max_int16\n",
    "        \n",
    "            #Chunk the data into 1 second samples and get normalized FFTs thereof\n",
    "            chunked_df = chunk_audio_fft(audio_normalized,sample_rate,1)\n",
    "            make_df = pd.concat([make_df,chunked_df],ignore_index=True)\n",
    "        except:\n",
    "            print('^This one is not working.')\n",
    "            continue\n",
    "    make_df['make'] = directory_name\n",
    "    total_df = pd.concat([total_df,make_df],ignore_index=True)\n",
    "    \n",
    "with open('train_motorcycles.pickle', 'wb') as to_write:\n",
    "        pickle.dump(total_df, to_write)\n",
    "to_write.close()"
   ]
  },
  {
   "cell_type": "code",
   "execution_count": null,
   "metadata": {},
   "outputs": [],
   "source": []
  }
 ],
 "metadata": {
  "kernelspec": {
   "display_name": "Python 3",
   "language": "python",
   "name": "python3"
  },
  "language_info": {
   "codemirror_mode": {
    "name": "ipython",
    "version": 3
   },
   "file_extension": ".py",
   "mimetype": "text/x-python",
   "name": "python",
   "nbconvert_exporter": "python",
   "pygments_lexer": "ipython3",
   "version": "3.8.3"
  }
 },
 "nbformat": 4,
 "nbformat_minor": 4
}
